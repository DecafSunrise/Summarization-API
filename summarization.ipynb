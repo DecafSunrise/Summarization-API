{
 "cells": [
  {
   "cell_type": "code",
   "execution_count": 6,
   "id": "004cd4c8-e252-4c9e-a81e-ab0f5ecb9b4f",
   "metadata": {},
   "outputs": [
    {
     "data": {
      "application/vnd.jupyter.widget-view+json": {
       "model_id": "5569637dc4c44f3dbb2b1c212db517c9",
       "version_major": 2,
       "version_minor": 0
      },
      "text/plain": [
       "Downloading config.json:   0%|          | 0.00/1.44k [00:00<?, ?B/s]"
      ]
     },
     "metadata": {},
     "output_type": "display_data"
    },
    {
     "data": {
      "application/vnd.jupyter.widget-view+json": {
       "model_id": "68b27dfecb2a491e90803ec555dac039",
       "version_major": 2,
       "version_minor": 0
      },
      "text/plain": [
       "Downloading model.safetensors:   0%|          | 0.00/1.84G [00:00<?, ?B/s]"
      ]
     },
     "metadata": {},
     "output_type": "display_data"
    },
    {
     "data": {
      "application/vnd.jupyter.widget-view+json": {
       "model_id": "f292223149b94680a4510f7d219ee956",
       "version_major": 2,
       "version_minor": 0
      },
      "text/plain": [
       "Downloading tokenizer_config.json:   0%|          | 0.00/1.32k [00:00<?, ?B/s]"
      ]
     },
     "metadata": {},
     "output_type": "display_data"
    },
    {
     "data": {
      "application/vnd.jupyter.widget-view+json": {
       "model_id": "64ee48e6d1c3406abdb15f2648c3a557",
       "version_major": 2,
       "version_minor": 0
      },
      "text/plain": [
       "Downloading vocab.json:   0%|          | 0.00/798k [00:00<?, ?B/s]"
      ]
     },
     "metadata": {},
     "output_type": "display_data"
    },
    {
     "data": {
      "application/vnd.jupyter.widget-view+json": {
       "model_id": "16b51d28dd3949ca9e00c508ea92c83d",
       "version_major": 2,
       "version_minor": 0
      },
      "text/plain": [
       "Downloading merges.txt:   0%|          | 0.00/456k [00:00<?, ?B/s]"
      ]
     },
     "metadata": {},
     "output_type": "display_data"
    },
    {
     "data": {
      "application/vnd.jupyter.widget-view+json": {
       "model_id": "b57826255ee446fe9e0289ecdf21d31c",
       "version_major": 2,
       "version_minor": 0
      },
      "text/plain": [
       "Downloading tokenizer.json:   0%|          | 0.00/2.11M [00:00<?, ?B/s]"
      ]
     },
     "metadata": {},
     "output_type": "display_data"
    },
    {
     "data": {
      "application/vnd.jupyter.widget-view+json": {
       "model_id": "9190c832a1674905b49cb565a52a8621",
       "version_major": 2,
       "version_minor": 0
      },
      "text/plain": [
       "Downloading (…)cial_tokens_map.json:   0%|          | 0.00/772 [00:00<?, ?B/s]"
      ]
     },
     "metadata": {},
     "output_type": "display_data"
    }
   ],
   "source": [
    "# Use a pipeline as a high-level helper\n",
    "from transformers import pipeline\n",
    "\n",
    "pipe = pipeline(\"summarization\", model=\"pszemraj/led-large-book-summary\")"
   ]
  },
  {
   "cell_type": "code",
   "execution_count": 10,
   "id": "164670bd-e8d7-44a1-8567-b7ca232eecf7",
   "metadata": {},
   "outputs": [],
   "source": [
    "text = \"\"\"Alan Bartlett Shepard Jr. (November 18, 1923 – July 21, 1998) was an American astronaut, naval aviator, test pilot, and businessman. In 1961, he became the second person and the first American to travel into space and, in 1971, he became the fifth and oldest person to walk on the Moon, at age 47.\n",
    "A graduate of the United States Naval Academy at Annapolis, Shepard saw action with the surface navy during World War II. He became a naval aviator in 1947, and a test pilot in 1950. He was selected as one of the original NASA Mercury Seven astronauts in 1959, and in May 1961 he made the first crewed Project Mercury flight, Mercury-Redstone 3, in a spacecraft he named Freedom 7. His craft entered space, but was not capable of achieving orbit. He became the second person, and the first American, to travel into space. In the final stages of Project Mercury, Shepard was scheduled to pilot the Mercury-Atlas 10 (MA-10), which was planned as a three-day mission. He named Mercury Spacecraft 15B Freedom 7 II in honor of his first spacecraft, but the mission was canceled.\n",
    "Shepard was designated as the commander of the first crewed Project Gemini mission, but was grounded in October 1963 due to Ménière's disease, an inner-ear ailment that caused episodes of extreme dizziness and nausea. This was surgically corrected in 1968, and in 1971, Shepard commanded the Apollo 14 mission, piloting the Apollo Lunar Module Antares. He was the only one of the Mercury Seven astronauts to walk on the Moon. During the mission, he hit two golf balls on the lunar surface.\n",
    "Shepard was Chief of the Astronaut Office from November 1963 to August 1969 (the approximate period of his grounding), and from June 1971 until April 30, 1974. On August 25, 1971, he was promoted to rear admiral, the first astronaut to reach that rank. He retired from the United States Navy and NASA on July 31, 1974.\"\"\""
   ]
  },
  {
   "cell_type": "code",
   "execution_count": 3,
   "id": "46e723db-6e2b-450f-95dd-5d5002b6915e",
   "metadata": {},
   "outputs": [
    {
     "data": {
      "text/plain": [
       "[{'summary_text': 'In 1961, he became the second person and the first American to travel into space and, in 1971, he became the fifth and oldest person to walk on the Moon, at age 47. He was selected as one of the original NASA Mercury Seven astronauts in 1959, and in May 1961 he made the first crewed Project Mercury flight, Mercury-Redstone 3, in a spacecraft he named Freedom 7.'}]"
      ]
     },
     "execution_count": 3,
     "metadata": {},
     "output_type": "execute_result"
    }
   ],
   "source": [
    "pipe(text)"
   ]
  },
  {
   "cell_type": "code",
   "execution_count": 5,
   "id": "fef1e797-6aaf-4e2a-af98-da1099b21192",
   "metadata": {},
   "outputs": [
    {
     "data": {
      "text/plain": [
       "[{'summary_text': 'Alan Shepard was the first American to walk on the Moon.'}]"
      ]
     },
     "execution_count": 5,
     "metadata": {},
     "output_type": "execute_result"
    }
   ],
   "source": [
    "pipe(text)"
   ]
  },
  {
   "cell_type": "code",
   "execution_count": 11,
   "id": "f6af24a6-8031-4bd9-aaca-2da76a47ffb8",
   "metadata": {},
   "outputs": [
    {
     "name": "stderr",
     "output_type": "stream",
     "text": [
      "Your max_length is set to 1024, but your input_length is only 418. Since this is a summarization task, where outputs shorter than the input are typically wanted, you might consider decreasing max_length manually, e.g. summarizer('...', max_length=209)\n"
     ]
    },
    {
     "data": {
      "text/plain": [
       "[{'summary_text': 'Shepard was an American astronaut, naval aviator, test pilot, and businessman. In 1961, he became the second person and the first American to travel into space and, at age 47, the fifth oldest person to walk on the moon. He commanded the Apollo 14 mission and hit two golf balls on the lunar surface. He was the Chief of the Astronaut Office as a rear admiral and Retired from the Navy and NASA on July 31, 1974.'}]"
      ]
     },
     "execution_count": 11,
     "metadata": {},
     "output_type": "execute_result"
    }
   ],
   "source": [
    "pipe(text)"
   ]
  },
  {
   "cell_type": "code",
   "execution_count": null,
   "id": "2d41e47b-2d1e-4379-aea7-601b5d735c69",
   "metadata": {},
   "outputs": [],
   "source": []
  },
  {
   "cell_type": "code",
   "execution_count": null,
   "id": "c7082e4b-50fa-40d4-b74c-f37ebb914d95",
   "metadata": {},
   "outputs": [],
   "source": []
  },
  {
   "cell_type": "code",
   "execution_count": null,
   "id": "2bcd288b-95c0-4db3-9050-b40e0aea3dd1",
   "metadata": {},
   "outputs": [],
   "source": []
  },
  {
   "cell_type": "code",
   "execution_count": null,
   "id": "ad408948-52b1-476d-b191-aed591b4ef4f",
   "metadata": {},
   "outputs": [],
   "source": []
  }
 ],
 "metadata": {
  "kernelspec": {
   "display_name": "Python 3 (ipykernel)",
   "language": "python",
   "name": "python3"
  },
  "language_info": {
   "codemirror_mode": {
    "name": "ipython",
    "version": 3
   },
   "file_extension": ".py",
   "mimetype": "text/x-python",
   "name": "python",
   "nbconvert_exporter": "python",
   "pygments_lexer": "ipython3",
   "version": "3.10.13"
  }
 },
 "nbformat": 4,
 "nbformat_minor": 5
}
